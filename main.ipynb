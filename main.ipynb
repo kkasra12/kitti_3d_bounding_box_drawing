{
 "cells": [
  {
   "cell_type": "code",
   "execution_count": 1,
   "metadata": {},
   "outputs": [],
   "source": [
    "import cv2\n",
    "import pandas as pd\n",
    "from matplotlib import pyplot as plt\n",
    "\n",
    "import utilities as ut\n",
    "%matplotlib inline"
   ]
  },
  {
   "cell_type": "code",
   "execution_count": 2,
   "metadata": {
    "pycharm": {
     "name": "#%%\n"
    }
   },
   "outputs": [],
   "source": [
    "%load_ext autoreload\n",
    "%autoreload 2"
   ]
  },
  {
   "cell_type": "code",
   "execution_count": 3,
   "metadata": {
    "pycharm": {
     "name": "#%%\n"
    }
   },
   "outputs": [
    {
     "data": {
      "text/plain": "         truncated occluded alpha    bbox                         dimensions  \\\n                 0        0     0       0       1       2       3          0   \nfilename                                                                       \n000001         0.0        0  1.85  387.63  181.54  423.81  203.12       1.67   \n000002         0.0        0 -1.67  657.39  190.13  700.07  223.39       1.41   \n000003         0.0        0  1.55  614.24  181.78  727.31  284.77       1.57   \n000004         0.0        0  1.96  280.38  185.10  344.90  215.59       1.49   \n000004         0.0        0  1.88  365.14  184.54  406.11  205.20       1.38   \n...            ...      ...   ...     ...     ...     ...     ...        ...   \n007480         0.0        2 -2.91  382.70  179.71  495.48  219.10       1.48   \n007480         0.0        1 -2.90  344.07  180.05  479.10  224.15       1.49   \n007480         0.0        2 -0.33  749.78  170.88  917.51  243.48       1.77   \n007480         0.6        3 -2.42    0.00  185.93  214.05  348.86       1.56   \n007480         0.0        1 -2.73   57.68  178.66  341.72  285.91       1.65   \n\n                     location              rotation_y score  \n             1     2        0     1      2          0     0  \nfilename                                                     \n000001    1.87  3.69   -16.53  2.39  58.49       1.57   NaN  \n000002    1.58  4.36     3.18  2.27  34.38      -1.58   NaN  \n000003    1.73  4.15     1.00  1.75  13.22       1.62   NaN  \n000004    1.76  4.01   -15.71  2.16  38.26       1.57   NaN  \n000004    1.80  3.41   -15.89  2.23  51.17       1.58   NaN  \n...        ...   ...      ...   ...    ...        ...   ...  \n007480    1.63  4.10    -6.79  1.78  28.78      -3.14   NaN  \n007480    1.59  4.44    -7.12  1.78  26.03       3.12   NaN  \n007480    1.69  3.82     5.72  1.75  18.85      -0.04   NaN  \n007480    1.57  4.37    -6.96  1.73   7.83      -3.13   NaN  \n007480    1.68  3.88    -6.88  1.77  12.36       3.05   NaN  \n\n[28742 rows x 15 columns]",
      "text/html": "<div>\n<style scoped>\n    .dataframe tbody tr th:only-of-type {\n        vertical-align: middle;\n    }\n\n    .dataframe tbody tr th {\n        vertical-align: top;\n    }\n\n    .dataframe thead tr th {\n        text-align: left;\n    }\n\n    .dataframe thead tr:last-of-type th {\n        text-align: right;\n    }\n</style>\n<table border=\"1\" class=\"dataframe\">\n  <thead>\n    <tr>\n      <th></th>\n      <th>truncated</th>\n      <th>occluded</th>\n      <th>alpha</th>\n      <th colspan=\"4\" halign=\"left\">bbox</th>\n      <th colspan=\"3\" halign=\"left\">dimensions</th>\n      <th colspan=\"3\" halign=\"left\">location</th>\n      <th>rotation_y</th>\n      <th>score</th>\n    </tr>\n    <tr>\n      <th></th>\n      <th>0</th>\n      <th>0</th>\n      <th>0</th>\n      <th>0</th>\n      <th>1</th>\n      <th>2</th>\n      <th>3</th>\n      <th>0</th>\n      <th>1</th>\n      <th>2</th>\n      <th>0</th>\n      <th>1</th>\n      <th>2</th>\n      <th>0</th>\n      <th>0</th>\n    </tr>\n    <tr>\n      <th>filename</th>\n      <th></th>\n      <th></th>\n      <th></th>\n      <th></th>\n      <th></th>\n      <th></th>\n      <th></th>\n      <th></th>\n      <th></th>\n      <th></th>\n      <th></th>\n      <th></th>\n      <th></th>\n      <th></th>\n      <th></th>\n    </tr>\n  </thead>\n  <tbody>\n    <tr>\n      <th>000001</th>\n      <td>0.0</td>\n      <td>0</td>\n      <td>1.85</td>\n      <td>387.63</td>\n      <td>181.54</td>\n      <td>423.81</td>\n      <td>203.12</td>\n      <td>1.67</td>\n      <td>1.87</td>\n      <td>3.69</td>\n      <td>-16.53</td>\n      <td>2.39</td>\n      <td>58.49</td>\n      <td>1.57</td>\n      <td>NaN</td>\n    </tr>\n    <tr>\n      <th>000002</th>\n      <td>0.0</td>\n      <td>0</td>\n      <td>-1.67</td>\n      <td>657.39</td>\n      <td>190.13</td>\n      <td>700.07</td>\n      <td>223.39</td>\n      <td>1.41</td>\n      <td>1.58</td>\n      <td>4.36</td>\n      <td>3.18</td>\n      <td>2.27</td>\n      <td>34.38</td>\n      <td>-1.58</td>\n      <td>NaN</td>\n    </tr>\n    <tr>\n      <th>000003</th>\n      <td>0.0</td>\n      <td>0</td>\n      <td>1.55</td>\n      <td>614.24</td>\n      <td>181.78</td>\n      <td>727.31</td>\n      <td>284.77</td>\n      <td>1.57</td>\n      <td>1.73</td>\n      <td>4.15</td>\n      <td>1.00</td>\n      <td>1.75</td>\n      <td>13.22</td>\n      <td>1.62</td>\n      <td>NaN</td>\n    </tr>\n    <tr>\n      <th>000004</th>\n      <td>0.0</td>\n      <td>0</td>\n      <td>1.96</td>\n      <td>280.38</td>\n      <td>185.10</td>\n      <td>344.90</td>\n      <td>215.59</td>\n      <td>1.49</td>\n      <td>1.76</td>\n      <td>4.01</td>\n      <td>-15.71</td>\n      <td>2.16</td>\n      <td>38.26</td>\n      <td>1.57</td>\n      <td>NaN</td>\n    </tr>\n    <tr>\n      <th>000004</th>\n      <td>0.0</td>\n      <td>0</td>\n      <td>1.88</td>\n      <td>365.14</td>\n      <td>184.54</td>\n      <td>406.11</td>\n      <td>205.20</td>\n      <td>1.38</td>\n      <td>1.80</td>\n      <td>3.41</td>\n      <td>-15.89</td>\n      <td>2.23</td>\n      <td>51.17</td>\n      <td>1.58</td>\n      <td>NaN</td>\n    </tr>\n    <tr>\n      <th>...</th>\n      <td>...</td>\n      <td>...</td>\n      <td>...</td>\n      <td>...</td>\n      <td>...</td>\n      <td>...</td>\n      <td>...</td>\n      <td>...</td>\n      <td>...</td>\n      <td>...</td>\n      <td>...</td>\n      <td>...</td>\n      <td>...</td>\n      <td>...</td>\n      <td>...</td>\n    </tr>\n    <tr>\n      <th>007480</th>\n      <td>0.0</td>\n      <td>2</td>\n      <td>-2.91</td>\n      <td>382.70</td>\n      <td>179.71</td>\n      <td>495.48</td>\n      <td>219.10</td>\n      <td>1.48</td>\n      <td>1.63</td>\n      <td>4.10</td>\n      <td>-6.79</td>\n      <td>1.78</td>\n      <td>28.78</td>\n      <td>-3.14</td>\n      <td>NaN</td>\n    </tr>\n    <tr>\n      <th>007480</th>\n      <td>0.0</td>\n      <td>1</td>\n      <td>-2.90</td>\n      <td>344.07</td>\n      <td>180.05</td>\n      <td>479.10</td>\n      <td>224.15</td>\n      <td>1.49</td>\n      <td>1.59</td>\n      <td>4.44</td>\n      <td>-7.12</td>\n      <td>1.78</td>\n      <td>26.03</td>\n      <td>3.12</td>\n      <td>NaN</td>\n    </tr>\n    <tr>\n      <th>007480</th>\n      <td>0.0</td>\n      <td>2</td>\n      <td>-0.33</td>\n      <td>749.78</td>\n      <td>170.88</td>\n      <td>917.51</td>\n      <td>243.48</td>\n      <td>1.77</td>\n      <td>1.69</td>\n      <td>3.82</td>\n      <td>5.72</td>\n      <td>1.75</td>\n      <td>18.85</td>\n      <td>-0.04</td>\n      <td>NaN</td>\n    </tr>\n    <tr>\n      <th>007480</th>\n      <td>0.6</td>\n      <td>3</td>\n      <td>-2.42</td>\n      <td>0.00</td>\n      <td>185.93</td>\n      <td>214.05</td>\n      <td>348.86</td>\n      <td>1.56</td>\n      <td>1.57</td>\n      <td>4.37</td>\n      <td>-6.96</td>\n      <td>1.73</td>\n      <td>7.83</td>\n      <td>-3.13</td>\n      <td>NaN</td>\n    </tr>\n    <tr>\n      <th>007480</th>\n      <td>0.0</td>\n      <td>1</td>\n      <td>-2.73</td>\n      <td>57.68</td>\n      <td>178.66</td>\n      <td>341.72</td>\n      <td>285.91</td>\n      <td>1.65</td>\n      <td>1.68</td>\n      <td>3.88</td>\n      <td>-6.88</td>\n      <td>1.77</td>\n      <td>12.36</td>\n      <td>3.05</td>\n      <td>NaN</td>\n    </tr>\n  </tbody>\n</table>\n<p>28742 rows × 15 columns</p>\n</div>"
     },
     "execution_count": 3,
     "metadata": {},
     "output_type": "execute_result"
    }
   ],
   "source": [
    "# noinspection PyTypeChecker\n",
    "l: pd.DataFrame = pd.read_hdf(\"dataset.hd5\",key=\"label\")\n",
    "labels_ = l.loc[(l[('type',0)]=='Car'),:].drop(columns=[('type',0)]).set_index(('filename',0)).sort_index()\n",
    "labels_.index.names = ['filename']\n",
    "labels_"
   ]
  },
  {
   "cell_type": "code",
   "execution_count": 4,
   "metadata": {
    "pycharm": {
     "name": "#%%\n"
    }
   },
   "outputs": [
    {
     "data": {
      "text/plain": "0             P0                                                              \\\n              1    2         3    4    5         6         7    8    9    10   \n007268  721.5377  0.0  609.5593  0.0  0.0  721.5377  172.8540  0.0  0.0  0.0   \n001696  721.5377  0.0  609.5593  0.0  0.0  721.5377  172.8540  0.0  0.0  0.0   \n000422  718.3351  0.0  600.3891  0.0  0.0  718.3351  181.5122  0.0  0.0  0.0   \n001909  721.5377  0.0  609.5593  0.0  0.0  721.5377  172.8540  0.0  0.0  0.0   \n007325  721.5377  0.0  609.5593  0.0  0.0  721.5377  172.8540  0.0  0.0  0.0   \n...          ...  ...       ...  ...  ...       ...       ...  ...  ...  ...   \n003905  707.0493  0.0  604.0814  0.0  0.0  707.0493  180.5066  0.0  0.0  0.0   \n005065  718.3351  0.0  600.3891  0.0  0.0  718.3351  181.5122  0.0  0.0  0.0   \n005466  721.5377  0.0  609.5593  0.0  0.0  721.5377  172.8540  0.0  0.0  0.0   \n000896  721.5377  0.0  609.5593  0.0  0.0  721.5377  172.8540  0.0  0.0  0.0   \n002088  721.5377  0.0  609.5593  0.0  0.0  721.5377  172.8540  0.0  0.0  0.0   \n\n0       ... Tr_imu_to_velo                                                   \\\n        ...             3         4         5        6         7         8    \n007268  ...      -0.002036 -0.808676 -0.000785  0.99989 -0.014823  0.319556   \n001696  ...      -0.002036 -0.808676 -0.000785  0.99989 -0.014823  0.319556   \n000422  ...      -0.002036 -0.808676 -0.000785  0.99989 -0.014823  0.319556   \n001909  ...      -0.002036 -0.808676 -0.000785  0.99989 -0.014823  0.319556   \n007325  ...      -0.002036 -0.808676 -0.000785  0.99989 -0.014823  0.319556   \n...     ...            ...       ...       ...      ...       ...       ...   \n003905  ...      -0.002036 -0.808676 -0.000785  0.99989 -0.014823  0.319556   \n005065  ...      -0.002036 -0.808676 -0.000785  0.99989 -0.014823  0.319556   \n005466  ...      -0.002036 -0.808676 -0.000785  0.99989 -0.014823  0.319556   \n000896  ...      -0.002036 -0.808676 -0.000785  0.99989 -0.014823  0.319556   \n002088  ...      -0.002036 -0.808676 -0.000785  0.99989 -0.014823  0.319556   \n\n0                                               \n              9         10        11        12  \n007268  0.002024  0.014825  0.999888 -0.799723  \n001696  0.002024  0.014825  0.999888 -0.799723  \n000422  0.002024  0.014825  0.999888 -0.799723  \n001909  0.002024  0.014825  0.999888 -0.799723  \n007325  0.002024  0.014825  0.999888 -0.799723  \n...          ...       ...       ...       ...  \n003905  0.002024  0.014825  0.999888 -0.799723  \n005065  0.002024  0.014825  0.999888 -0.799723  \n005466  0.002024  0.014825  0.999888 -0.799723  \n000896  0.002024  0.014825  0.999888 -0.799723  \n002088  0.002024  0.014825  0.999888 -0.799723  \n\n[7481 rows x 81 columns]",
      "text/html": "<div>\n<style scoped>\n    .dataframe tbody tr th:only-of-type {\n        vertical-align: middle;\n    }\n\n    .dataframe tbody tr th {\n        vertical-align: top;\n    }\n\n    .dataframe thead tr th {\n        text-align: left;\n    }\n</style>\n<table border=\"1\" class=\"dataframe\">\n  <thead>\n    <tr>\n      <th></th>\n      <th colspan=\"10\" halign=\"left\">P0</th>\n      <th>...</th>\n      <th colspan=\"10\" halign=\"left\">Tr_imu_to_velo</th>\n    </tr>\n    <tr>\n      <th></th>\n      <th>1</th>\n      <th>2</th>\n      <th>3</th>\n      <th>4</th>\n      <th>5</th>\n      <th>6</th>\n      <th>7</th>\n      <th>8</th>\n      <th>9</th>\n      <th>10</th>\n      <th>...</th>\n      <th>3</th>\n      <th>4</th>\n      <th>5</th>\n      <th>6</th>\n      <th>7</th>\n      <th>8</th>\n      <th>9</th>\n      <th>10</th>\n      <th>11</th>\n      <th>12</th>\n    </tr>\n  </thead>\n  <tbody>\n    <tr>\n      <th>007268</th>\n      <td>721.5377</td>\n      <td>0.0</td>\n      <td>609.5593</td>\n      <td>0.0</td>\n      <td>0.0</td>\n      <td>721.5377</td>\n      <td>172.8540</td>\n      <td>0.0</td>\n      <td>0.0</td>\n      <td>0.0</td>\n      <td>...</td>\n      <td>-0.002036</td>\n      <td>-0.808676</td>\n      <td>-0.000785</td>\n      <td>0.99989</td>\n      <td>-0.014823</td>\n      <td>0.319556</td>\n      <td>0.002024</td>\n      <td>0.014825</td>\n      <td>0.999888</td>\n      <td>-0.799723</td>\n    </tr>\n    <tr>\n      <th>001696</th>\n      <td>721.5377</td>\n      <td>0.0</td>\n      <td>609.5593</td>\n      <td>0.0</td>\n      <td>0.0</td>\n      <td>721.5377</td>\n      <td>172.8540</td>\n      <td>0.0</td>\n      <td>0.0</td>\n      <td>0.0</td>\n      <td>...</td>\n      <td>-0.002036</td>\n      <td>-0.808676</td>\n      <td>-0.000785</td>\n      <td>0.99989</td>\n      <td>-0.014823</td>\n      <td>0.319556</td>\n      <td>0.002024</td>\n      <td>0.014825</td>\n      <td>0.999888</td>\n      <td>-0.799723</td>\n    </tr>\n    <tr>\n      <th>000422</th>\n      <td>718.3351</td>\n      <td>0.0</td>\n      <td>600.3891</td>\n      <td>0.0</td>\n      <td>0.0</td>\n      <td>718.3351</td>\n      <td>181.5122</td>\n      <td>0.0</td>\n      <td>0.0</td>\n      <td>0.0</td>\n      <td>...</td>\n      <td>-0.002036</td>\n      <td>-0.808676</td>\n      <td>-0.000785</td>\n      <td>0.99989</td>\n      <td>-0.014823</td>\n      <td>0.319556</td>\n      <td>0.002024</td>\n      <td>0.014825</td>\n      <td>0.999888</td>\n      <td>-0.799723</td>\n    </tr>\n    <tr>\n      <th>001909</th>\n      <td>721.5377</td>\n      <td>0.0</td>\n      <td>609.5593</td>\n      <td>0.0</td>\n      <td>0.0</td>\n      <td>721.5377</td>\n      <td>172.8540</td>\n      <td>0.0</td>\n      <td>0.0</td>\n      <td>0.0</td>\n      <td>...</td>\n      <td>-0.002036</td>\n      <td>-0.808676</td>\n      <td>-0.000785</td>\n      <td>0.99989</td>\n      <td>-0.014823</td>\n      <td>0.319556</td>\n      <td>0.002024</td>\n      <td>0.014825</td>\n      <td>0.999888</td>\n      <td>-0.799723</td>\n    </tr>\n    <tr>\n      <th>007325</th>\n      <td>721.5377</td>\n      <td>0.0</td>\n      <td>609.5593</td>\n      <td>0.0</td>\n      <td>0.0</td>\n      <td>721.5377</td>\n      <td>172.8540</td>\n      <td>0.0</td>\n      <td>0.0</td>\n      <td>0.0</td>\n      <td>...</td>\n      <td>-0.002036</td>\n      <td>-0.808676</td>\n      <td>-0.000785</td>\n      <td>0.99989</td>\n      <td>-0.014823</td>\n      <td>0.319556</td>\n      <td>0.002024</td>\n      <td>0.014825</td>\n      <td>0.999888</td>\n      <td>-0.799723</td>\n    </tr>\n    <tr>\n      <th>...</th>\n      <td>...</td>\n      <td>...</td>\n      <td>...</td>\n      <td>...</td>\n      <td>...</td>\n      <td>...</td>\n      <td>...</td>\n      <td>...</td>\n      <td>...</td>\n      <td>...</td>\n      <td>...</td>\n      <td>...</td>\n      <td>...</td>\n      <td>...</td>\n      <td>...</td>\n      <td>...</td>\n      <td>...</td>\n      <td>...</td>\n      <td>...</td>\n      <td>...</td>\n      <td>...</td>\n    </tr>\n    <tr>\n      <th>003905</th>\n      <td>707.0493</td>\n      <td>0.0</td>\n      <td>604.0814</td>\n      <td>0.0</td>\n      <td>0.0</td>\n      <td>707.0493</td>\n      <td>180.5066</td>\n      <td>0.0</td>\n      <td>0.0</td>\n      <td>0.0</td>\n      <td>...</td>\n      <td>-0.002036</td>\n      <td>-0.808676</td>\n      <td>-0.000785</td>\n      <td>0.99989</td>\n      <td>-0.014823</td>\n      <td>0.319556</td>\n      <td>0.002024</td>\n      <td>0.014825</td>\n      <td>0.999888</td>\n      <td>-0.799723</td>\n    </tr>\n    <tr>\n      <th>005065</th>\n      <td>718.3351</td>\n      <td>0.0</td>\n      <td>600.3891</td>\n      <td>0.0</td>\n      <td>0.0</td>\n      <td>718.3351</td>\n      <td>181.5122</td>\n      <td>0.0</td>\n      <td>0.0</td>\n      <td>0.0</td>\n      <td>...</td>\n      <td>-0.002036</td>\n      <td>-0.808676</td>\n      <td>-0.000785</td>\n      <td>0.99989</td>\n      <td>-0.014823</td>\n      <td>0.319556</td>\n      <td>0.002024</td>\n      <td>0.014825</td>\n      <td>0.999888</td>\n      <td>-0.799723</td>\n    </tr>\n    <tr>\n      <th>005466</th>\n      <td>721.5377</td>\n      <td>0.0</td>\n      <td>609.5593</td>\n      <td>0.0</td>\n      <td>0.0</td>\n      <td>721.5377</td>\n      <td>172.8540</td>\n      <td>0.0</td>\n      <td>0.0</td>\n      <td>0.0</td>\n      <td>...</td>\n      <td>-0.002036</td>\n      <td>-0.808676</td>\n      <td>-0.000785</td>\n      <td>0.99989</td>\n      <td>-0.014823</td>\n      <td>0.319556</td>\n      <td>0.002024</td>\n      <td>0.014825</td>\n      <td>0.999888</td>\n      <td>-0.799723</td>\n    </tr>\n    <tr>\n      <th>000896</th>\n      <td>721.5377</td>\n      <td>0.0</td>\n      <td>609.5593</td>\n      <td>0.0</td>\n      <td>0.0</td>\n      <td>721.5377</td>\n      <td>172.8540</td>\n      <td>0.0</td>\n      <td>0.0</td>\n      <td>0.0</td>\n      <td>...</td>\n      <td>-0.002036</td>\n      <td>-0.808676</td>\n      <td>-0.000785</td>\n      <td>0.99989</td>\n      <td>-0.014823</td>\n      <td>0.319556</td>\n      <td>0.002024</td>\n      <td>0.014825</td>\n      <td>0.999888</td>\n      <td>-0.799723</td>\n    </tr>\n    <tr>\n      <th>002088</th>\n      <td>721.5377</td>\n      <td>0.0</td>\n      <td>609.5593</td>\n      <td>0.0</td>\n      <td>0.0</td>\n      <td>721.5377</td>\n      <td>172.8540</td>\n      <td>0.0</td>\n      <td>0.0</td>\n      <td>0.0</td>\n      <td>...</td>\n      <td>-0.002036</td>\n      <td>-0.808676</td>\n      <td>-0.000785</td>\n      <td>0.99989</td>\n      <td>-0.014823</td>\n      <td>0.319556</td>\n      <td>0.002024</td>\n      <td>0.014825</td>\n      <td>0.999888</td>\n      <td>-0.799723</td>\n    </tr>\n  </tbody>\n</table>\n<p>7481 rows × 81 columns</p>\n</div>"
     },
     "execution_count": 4,
     "metadata": {},
     "output_type": "execute_result"
    }
   ],
   "source": [
    "# noinspection PyTypeChecker\n",
    "calibrations: pd.DataFrame = pd.read_hdf(\"dataset.hd5\", key=\"calibration\")\n",
    "calibrations"
   ]
  },
  {
   "cell_type": "code",
   "execution_count": 9,
   "metadata": {
    "pycharm": {
     "name": "#%%\n"
    }
   },
   "outputs": [],
   "source": [
    "images = ((8,[0]),(31,[0]),(36,[2]),(208,[0]),(149,[3]))\n",
    "labels = []\n",
    "calibs = []\n",
    "for i in images:\n",
    "    img,label,clib = ut.partly_annotate(*i)\n",
    "    cv2.imwrite(f\"/home/kasra/Pictures/selected/img_{i[0]}_{i[1][0]}.png\",img.img)\n",
    "    labels.append(label)\n",
    "    calibs.append(clib)\n",
    "    plt.show()\n",
    "pd.concat(labels,axis=0).to_csv('/home/kasra/Pictures/selected/labels.csv')\n",
    "pd.concat(calibs,axis=1).T.to_csv('/home/kasra/Pictures/selected/calibs.csv')"
   ]
  }
 ],
 "metadata": {
  "kernelspec": {
   "display_name": "Python 3",
   "language": "python",
   "name": "python3"
  },
  "language_info": {
   "codemirror_mode": {
    "name": "ipython",
    "version": 3
   },
   "file_extension": ".py",
   "mimetype": "text/x-python",
   "name": "python",
   "nbconvert_exporter": "python",
   "pygments_lexer": "ipython3",
   "version": "3.8.10"
  }
 },
 "nbformat": 4,
 "nbformat_minor": 1
}